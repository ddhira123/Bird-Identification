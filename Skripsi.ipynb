{
  "nbformat": 4,
  "nbformat_minor": 0,
  "metadata": {
    "colab": {
      "name": "Skripsi.ipynb",
      "provenance": [],
      "collapsed_sections": [],
      "include_colab_link": true
    },
    "kernelspec": {
      "display_name": "Python 3",
      "name": "python3"
    },
    "language_info": {
      "name": "python"
    },
    "accelerator": "GPU"
  },
  "cells": [
    {
      "cell_type": "markdown",
      "metadata": {
        "id": "view-in-github",
        "colab_type": "text"
      },
      "source": [
        "<a href=\"https://colab.research.google.com/github/ddhira123/Bird-Identification/blob/master/Skripsi.ipynb\" target=\"_parent\"><img src=\"https://colab.research.google.com/assets/colab-badge.svg\" alt=\"Open In Colab\"/></a>"
      ]
    },
    {
      "cell_type": "code",
      "metadata": {
        "id": "j4t1HOSTPjGg"
      },
      "source": [
        "working_dir = '/content/drive/MyDrive/Skripsi/[NEW TOPIC] Wildlife Identification/Code/'"
      ],
      "execution_count": null,
      "outputs": []
    },
    {
      "cell_type": "code",
      "metadata": {
        "colab": {
          "base_uri": "https://localhost:8080/"
        },
        "id": "tGP33I7cw41s",
        "outputId": "6a3194c9-40ec-4d9d-e74a-ad344507ad1c"
      },
      "source": [
        "!git clone https://github.com/ddhira123/Bird-Identification.git"
      ],
      "execution_count": null,
      "outputs": [
        {
          "output_type": "stream",
          "text": [
            "fatal: destination path 'Bird-Identification' already exists and is not an empty directory.\n"
          ],
          "name": "stdout"
        }
      ]
    },
    {
      "cell_type": "code",
      "metadata": {
        "id": "aWDTLX0bzczX"
      },
      "source": [
        "working_dir = 'Bird-Identification'"
      ],
      "execution_count": null,
      "outputs": []
    },
    {
      "cell_type": "markdown",
      "metadata": {
        "id": "Jz6kwZKUSTS3"
      },
      "source": [
        "## Import Libraries"
      ]
    },
    {
      "cell_type": "code",
      "metadata": {
        "id": "i-xBYae5Pbm6"
      },
      "source": [
        "import numpy as np\n",
        "import pandas as pd\n",
        "import tensorflow as tf\n",
        "import matplotlib.pyplot as plt\n",
        "from keras.preprocessing.image import ImageDataGenerator"
      ],
      "execution_count": null,
      "outputs": []
    },
    {
      "cell_type": "markdown",
      "metadata": {
        "id": "17ZzLSSISPUZ"
      },
      "source": [
        "## Import Dataset"
      ]
    },
    {
      "cell_type": "code",
      "metadata": {
        "id": "bQefcctXTkvo"
      },
      "source": [
        "dataset_dir = working_dir + '/data'\n",
        "\n",
        "train_dir = dataset_dir + '/train'\n",
        "test_dir = dataset_dir + '/test'\n"
      ],
      "execution_count": null,
      "outputs": []
    },
    {
      "cell_type": "code",
      "metadata": {
        "id": "ct-IvYTJoO4u"
      },
      "source": [
        "train_datagen = ImageDataGenerator(\n",
        "    horizontal_flip=True,\n",
        "    vertical_flip=True,\n",
        "    shear_range=0.2,\n",
        "    zoom_range=0.2,\n",
        "    rescale=1/255.,\n",
        "    width_shift_range=0.2, \n",
        "    height_shift_range=0.2\n",
        ")\n",
        "test_datagen = ImageDataGenerator(rescale=1/255.)"
      ],
      "execution_count": null,
      "outputs": []
    },
    {
      "cell_type": "code",
      "metadata": {
        "colab": {
          "base_uri": "https://localhost:8080/"
        },
        "id": "KcZ1Kh0Ppwcp",
        "outputId": "bf27bd12-379d-4c2d-c9fc-0bfc8f6e84ff"
      },
      "source": [
        "IMG_SIZE = (224, 224)\n",
        "train_gen = train_datagen.flow_from_directory(train_dir,\n",
        "                                              batch_size=64,\n",
        "                                              shuffle=True,\n",
        "                                              target_size=IMG_SIZE)\n",
        "\n",
        "test_gen = test_datagen.flow_from_directory(test_dir,\n",
        "                                            target_size=IMG_SIZE)"
      ],
      "execution_count": null,
      "outputs": [
        {
          "output_type": "stream",
          "text": [
            "Found 320 images belonging to 10 classes.\n",
            "Found 80 images belonging to 10 classes.\n"
          ],
          "name": "stdout"
        }
      ]
    },
    {
      "cell_type": "code",
      "metadata": {
        "id": "FhCprt83qk1k"
      },
      "source": [
        "IMG_SHAPE = IMG_SIZE + (3,)\n",
        "base_model = tf.keras.applications.MobileNetV2(input_shape=IMG_SHAPE,\n",
        "                                               include_top=False,\n",
        "                                               weights='imagenet')"
      ],
      "execution_count": null,
      "outputs": []
    },
    {
      "cell_type": "code",
      "metadata": {
        "id": "gNb10LJMr_1o"
      },
      "source": [
        "base_model.trainable = False"
      ],
      "execution_count": null,
      "outputs": []
    },
    {
      "cell_type": "code",
      "metadata": {
        "colab": {
          "base_uri": "https://localhost:8080/"
        },
        "id": "tO81NTFhrJrK",
        "outputId": "bf9c2ba5-f135-4c63-cf5b-0bdeaaca97b1"
      },
      "source": [
        "model = tf.keras.Sequential([\n",
        "                             base_model,\n",
        "                             tf.keras.layers.GlobalAveragePooling2D(),\n",
        "                             tf.keras.layers.Dense(16, activation='relu'),\n",
        "                             tf.keras.layers.Dense(10, activation='softmax')\n",
        "])\n",
        "\n",
        "model.compile(optimizer='adam', loss='categorical_crossentropy', metrics=['accuracy'])\n",
        "model.summary()"
      ],
      "execution_count": null,
      "outputs": [
        {
          "output_type": "stream",
          "text": [
            "Model: \"sequential_3\"\n",
            "_________________________________________________________________\n",
            "Layer (type)                 Output Shape              Param #   \n",
            "=================================================================\n",
            "mobilenetv2_1.00_224 (Functi (None, 7, 7, 1280)        2257984   \n",
            "_________________________________________________________________\n",
            "global_average_pooling2d_3 ( (None, 1280)              0         \n",
            "_________________________________________________________________\n",
            "dense_6 (Dense)              (None, 16)                20496     \n",
            "_________________________________________________________________\n",
            "dense_7 (Dense)              (None, 10)                170       \n",
            "=================================================================\n",
            "Total params: 2,278,650\n",
            "Trainable params: 20,666\n",
            "Non-trainable params: 2,257,984\n",
            "_________________________________________________________________\n"
          ],
          "name": "stdout"
        }
      ]
    },
    {
      "cell_type": "code",
      "metadata": {
        "id": "PAuTyPpA1d-I"
      },
      "source": [
        "callback_loss = tf.keras.callbacks.EarlyStopping(monitor='val_loss', patience=3)\n",
        "callback_acc = tf.keras.callbacks.EarlyStopping(monitor='val_accuracy', patience=3)"
      ],
      "execution_count": null,
      "outputs": []
    },
    {
      "cell_type": "code",
      "metadata": {
        "colab": {
          "base_uri": "https://localhost:8080/"
        },
        "id": "eIhbiMrasGbQ",
        "outputId": "e72509ed-8501-4ebd-ffeb-7f61836befe2"
      },
      "source": [
        "history = model.fit(train_gen, validation_data=test_gen, epochs=50, callbacks=[callback_acc, callback_loss])"
      ],
      "execution_count": null,
      "outputs": [
        {
          "output_type": "stream",
          "text": [
            "Epoch 1/50\n",
            "5/5 [==============================] - 6s 914ms/step - loss: 2.4716 - accuracy: 0.1625 - val_loss: 2.2518 - val_accuracy: 0.2125\n",
            "Epoch 2/50\n",
            "5/5 [==============================] - 4s 736ms/step - loss: 2.1633 - accuracy: 0.2438 - val_loss: 2.0154 - val_accuracy: 0.3125\n",
            "Epoch 3/50\n",
            "5/5 [==============================] - 4s 747ms/step - loss: 1.9284 - accuracy: 0.3219 - val_loss: 1.8428 - val_accuracy: 0.3250\n",
            "Epoch 4/50\n",
            "5/5 [==============================] - 4s 736ms/step - loss: 1.7281 - accuracy: 0.4656 - val_loss: 1.6802 - val_accuracy: 0.4125\n",
            "Epoch 5/50\n",
            "5/5 [==============================] - 4s 740ms/step - loss: 1.4884 - accuracy: 0.5344 - val_loss: 1.5320 - val_accuracy: 0.4375\n",
            "Epoch 6/50\n",
            "5/5 [==============================] - 4s 741ms/step - loss: 1.3954 - accuracy: 0.5750 - val_loss: 1.4058 - val_accuracy: 0.5125\n",
            "Epoch 7/50\n",
            "5/5 [==============================] - 4s 734ms/step - loss: 1.3267 - accuracy: 0.5844 - val_loss: 1.2921 - val_accuracy: 0.5625\n",
            "Epoch 8/50\n",
            "5/5 [==============================] - 4s 742ms/step - loss: 1.2040 - accuracy: 0.6250 - val_loss: 1.1592 - val_accuracy: 0.6250\n",
            "Epoch 9/50\n",
            "5/5 [==============================] - 4s 741ms/step - loss: 1.1165 - accuracy: 0.6687 - val_loss: 1.0895 - val_accuracy: 0.6875\n",
            "Epoch 10/50\n",
            "5/5 [==============================] - 4s 735ms/step - loss: 1.0639 - accuracy: 0.6594 - val_loss: 0.9862 - val_accuracy: 0.7000\n",
            "Epoch 11/50\n",
            "5/5 [==============================] - 4s 752ms/step - loss: 0.9388 - accuracy: 0.7219 - val_loss: 0.8682 - val_accuracy: 0.7750\n",
            "Epoch 12/50\n",
            "5/5 [==============================] - 4s 745ms/step - loss: 0.8325 - accuracy: 0.7625 - val_loss: 0.7993 - val_accuracy: 0.8000\n",
            "Epoch 13/50\n",
            "5/5 [==============================] - 4s 757ms/step - loss: 0.7403 - accuracy: 0.8125 - val_loss: 0.7283 - val_accuracy: 0.8500\n",
            "Epoch 14/50\n",
            "5/5 [==============================] - 4s 741ms/step - loss: 0.6745 - accuracy: 0.8313 - val_loss: 0.6557 - val_accuracy: 0.8875\n",
            "Epoch 15/50\n",
            "5/5 [==============================] - 4s 741ms/step - loss: 0.6193 - accuracy: 0.8625 - val_loss: 0.5917 - val_accuracy: 0.8875\n",
            "Epoch 16/50\n",
            "5/5 [==============================] - 4s 741ms/step - loss: 0.5638 - accuracy: 0.8406 - val_loss: 0.5204 - val_accuracy: 0.9000\n",
            "Epoch 17/50\n",
            "5/5 [==============================] - 4s 736ms/step - loss: 0.5069 - accuracy: 0.8719 - val_loss: 0.4577 - val_accuracy: 0.9125\n",
            "Epoch 18/50\n",
            "5/5 [==============================] - 4s 746ms/step - loss: 0.4554 - accuracy: 0.9156 - val_loss: 0.4331 - val_accuracy: 0.9000\n",
            "Epoch 19/50\n",
            "5/5 [==============================] - 4s 748ms/step - loss: 0.3632 - accuracy: 0.9312 - val_loss: 0.4247 - val_accuracy: 0.8875\n",
            "Epoch 20/50\n",
            "5/5 [==============================] - 4s 748ms/step - loss: 0.3916 - accuracy: 0.9281 - val_loss: 0.3695 - val_accuracy: 0.9250\n",
            "Epoch 21/50\n",
            "5/5 [==============================] - 4s 756ms/step - loss: 0.3234 - accuracy: 0.9344 - val_loss: 0.3480 - val_accuracy: 0.9250\n",
            "Epoch 22/50\n",
            "5/5 [==============================] - 4s 737ms/step - loss: 0.2667 - accuracy: 0.9688 - val_loss: 0.3271 - val_accuracy: 0.9250\n",
            "Epoch 23/50\n",
            "5/5 [==============================] - 4s 742ms/step - loss: 0.2857 - accuracy: 0.9469 - val_loss: 0.3073 - val_accuracy: 0.9375\n",
            "Epoch 24/50\n",
            "5/5 [==============================] - 4s 748ms/step - loss: 0.2909 - accuracy: 0.9469 - val_loss: 0.2985 - val_accuracy: 0.9375\n",
            "Epoch 25/50\n",
            "5/5 [==============================] - 4s 752ms/step - loss: 0.2509 - accuracy: 0.9688 - val_loss: 0.3162 - val_accuracy: 0.9125\n",
            "Epoch 26/50\n",
            "5/5 [==============================] - 4s 747ms/step - loss: 0.2013 - accuracy: 0.9750 - val_loss: 0.2662 - val_accuracy: 0.9500\n",
            "Epoch 27/50\n",
            "5/5 [==============================] - 4s 748ms/step - loss: 0.2151 - accuracy: 0.9625 - val_loss: 0.2453 - val_accuracy: 0.9500\n",
            "Epoch 28/50\n",
            "5/5 [==============================] - 4s 743ms/step - loss: 0.2010 - accuracy: 0.9563 - val_loss: 0.2463 - val_accuracy: 0.9375\n",
            "Epoch 29/50\n",
            "5/5 [==============================] - 4s 738ms/step - loss: 0.2027 - accuracy: 0.9531 - val_loss: 0.2444 - val_accuracy: 0.9625\n",
            "Epoch 30/50\n",
            "5/5 [==============================] - 4s 741ms/step - loss: 0.1957 - accuracy: 0.9656 - val_loss: 0.2455 - val_accuracy: 0.9625\n",
            "Epoch 31/50\n",
            "5/5 [==============================] - 4s 749ms/step - loss: 0.1824 - accuracy: 0.9812 - val_loss: 0.2250 - val_accuracy: 0.9625\n",
            "Epoch 32/50\n",
            "5/5 [==============================] - 4s 736ms/step - loss: 0.1628 - accuracy: 0.9781 - val_loss: 0.2064 - val_accuracy: 0.9625\n"
          ],
          "name": "stdout"
        }
      ]
    },
    {
      "cell_type": "code",
      "metadata": {
        "colab": {
          "base_uri": "https://localhost:8080/",
          "height": 271
        },
        "id": "whlsjb8r1J-x",
        "outputId": "2776b193-f5bf-4481-fb13-23a28950d929"
      },
      "source": [
        "def plot_results(history):\n",
        "    acc = history.history['accuracy']\n",
        "    val_acc = history.history['val_accuracy']\n",
        "    loss = history.history['loss']\n",
        "    val_loss = history.history['val_loss']\n",
        "\n",
        "    epochs = range(1, len(acc) + 1)\n",
        "\n",
        "    plt.figure(figsize = (24, 6))\n",
        "    plt.subplot(1,2,1)\n",
        "    plt.plot(epochs, acc, 'b', label = 'Training Accuracy')\n",
        "    plt.plot(epochs, val_acc, 'r', label = 'Validation Accuracy')\n",
        "    plt.grid(True)\n",
        "    plt.legend()\n",
        "    plt.xlabel('Epoch')\n",
        "    \n",
        "    plt.subplot(1,2,2)\n",
        "    plt.plot(epochs, loss, 'b', label = 'Training Loss')\n",
        "    plt.plot(epochs, val_loss, 'r', label = 'Validation Loss')\n",
        "    plt.grid(True)\n",
        "    plt.legend()\n",
        "    plt.xlabel('Epoch')\n",
        "    plt.show()\n",
        "\n",
        "plot_results(history)"
      ],
      "execution_count": null,
      "outputs": [
        {
          "output_type": "display_data",
          "data": {
            "image/png": "[encoded data removed]",
            "text/plain": [
              "<Figure size 1728x432 with 2 Axes>"
            ]
          },
          "metadata": {
            "tags": [],
            "needs_background": "light"
          }
        }
      ]
    },
    {
      "cell_type": "code",
      "metadata": {
        "colab": {
          "base_uri": "https://localhost:8080/"
        },
        "id": "9TEP0Exi3Eyd",
        "outputId": "28a01cbd-6bb0-4e67-f615-22303462a549"
      },
      "source": [
        "model.save(working_dir+'/SavedModel.h5')"
      ],
      "execution_count": null,
      "outputs": [
        {
          "output_type": "stream",
          "text": [
            "/usr/local/lib/python3.7/dist-packages/tensorflow/python/keras/utils/generic_utils.py:497: CustomMaskWarning: Custom mask layers require a config and must override get_config. When loading, the custom mask layer must be passed to the custom_objects argument.\n",
            "  category=CustomMaskWarning)\n"
          ],
          "name": "stderr"
        }
      ]
    },
    {
      "cell_type": "code",
      "metadata": {
        "colab": {
          "base_uri": "https://localhost:8080/"
        },
        "id": "V5GYkFDQ3iKw",
        "outputId": "15e43a05-52c7-49ba-a7db-0848ec14ce69"
      },
      "source": [
        "!cd $working_dir"
      ],
      "execution_count": null,
      "outputs": [
        {
          "output_type": "stream",
          "text": [
            "fatal: not a git repository (or any of the parent directories): .git\n"
          ],
          "name": "stdout"
        }
      ]
    }
  ]
}